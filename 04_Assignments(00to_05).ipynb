{
  "nbformat": 4,
  "nbformat_minor": 0,
  "metadata": {
    "colab": {
      "provenance": []
    },
    "kernelspec": {
      "name": "python3",
      "display_name": "Python 3"
    },
    "language_info": {
      "name": "python"
    }
  },
  "cells": [
    {
      "cell_type": "markdown",
      "source": [],
      "metadata": {
        "id": "MfCJ_nPfuLfg"
      }
    },
    {
      "cell_type": "markdown",
      "source": [
        "# Assignments 00 to 05\n",
        "\n",
        "\n"
      ],
      "metadata": {
        "id": "r0dx0z-owAUp"
      }
    },
    {
      "cell_type": "markdown",
      "source": [
        "## 00_intro_python"
      ],
      "metadata": {
        "id": "8J_YyalMwLpe"
      }
    },
    {
      "cell_type": "markdown",
      "source": [
        "## 01_add_two_numbers"
      ],
      "metadata": {
        "id": "2w55opGeuQCY"
      }
    },
    {
      "cell_type": "code",
      "execution_count": null,
      "metadata": {
        "colab": {
          "base_uri": "https://localhost:8080/"
        },
        "id": "oj2lJGVJtzMq",
        "outputId": "f97ad3f0-44d1-40f6-c074-cebece18b81a"
      },
      "outputs": [
        {
          "output_type": "stream",
          "name": "stdout",
          "text": [
            "This program adds two numbers.\n",
            "Enter the first number: 19\n",
            "Enter the second number: 23\n",
            "The total sum is: 42\n"
          ]
        }
      ],
      "source": [
        "def main():\n",
        "    print(\"This program adds two numbers.\")\n",
        "\n",
        "    # Step 1: Prompt the user to enter the first number\n",
        "    num1 = input(\"Enter the first number: \")\n",
        "\n",
        "    # Step 2: Convert the input to an integer\n",
        "    num1 = int(num1)\n",
        "\n",
        "    # Step 3: Prompt the user to enter the second number\n",
        "    num2 = input(\"Enter the second number: \")\n",
        "\n",
        "    # Step 4: Convert the input to an integer\n",
        "    num2 = int(num2)\n",
        "\n",
        "    # Step 5: Calculate the sum\n",
        "    total = num1 + num2\n",
        "\n",
        "    # Step 6: Print the total sum with a message\n",
        "    print(\"The total sum is:\", total)\n",
        "\n",
        "if __name__ == '__main__':\n",
        "    main()"
      ]
    },
    {
      "cell_type": "markdown",
      "source": [
        "## 02_agreement_bot"
      ],
      "metadata": {
        "id": "gFHEZclkuVxA"
      }
    },
    {
      "cell_type": "code",
      "source": [
        "def main():\n",
        "    # Prompt the user for their favorite animal\n",
        "    animal = input(\"What's your favorite animal? \")\n",
        "\n",
        "    # Respond with a message using the user's input\n",
        "    print(\"My favorite animal is also \" + animal + \"!\")\n",
        "\n",
        "if __name__ == '__main__':\n",
        "    main()"
      ],
      "metadata": {
        "colab": {
          "base_uri": "https://localhost:8080/"
        },
        "id": "zHzp2sW6t4Me",
        "outputId": "c724785c-46ca-4fd1-a65e-f263b4189fa2"
      },
      "execution_count": null,
      "outputs": [
        {
          "output_type": "stream",
          "name": "stdout",
          "text": [
            "What's your favorite animal? cat\n",
            "My favorite animal is also cat!\n"
          ]
        }
      ]
    },
    {
      "cell_type": "markdown",
      "source": [
        "## 03_fahrenheit_to_celsius"
      ],
      "metadata": {
        "id": "dCB4V5SIunOk"
      }
    },
    {
      "cell_type": "markdown",
      "source": [],
      "metadata": {
        "id": "5N1c5TTjuUnX"
      }
    },
    {
      "cell_type": "code",
      "source": [
        "def main():\n",
        "    # Prompt the user to enter temperature in Fahrenheit\n",
        "    temp_f = input(\"Enter temperature in Fahrenheit: \")\n",
        "\n",
        "    # Convert the input to a float\n",
        "    temp_f = float(temp_f)\n",
        "\n",
        "    # Convert Fahrenheit to Celsius using the formula\n",
        "    temp_c = (temp_f - 32) * 5.0 / 9.0\n",
        "\n",
        "    # Print the result\n",
        "    print(\"Temperature:\", str(temp_f) + \"F =\", str(temp_c) + \"C\")\n",
        "\n",
        "if __name__ == '__main__':\n",
        "    main()"
      ],
      "metadata": {
        "colab": {
          "base_uri": "https://localhost:8080/"
        },
        "id": "zs_s0y4outJn",
        "outputId": "a1352202-a757-48fa-ea1a-b20b9c5810b0"
      },
      "execution_count": null,
      "outputs": [
        {
          "output_type": "stream",
          "name": "stdout",
          "text": [
            "Enter temperature in Fahrenheit: 50\n",
            "Temperature: 50.0F = 10.0C\n"
          ]
        }
      ]
    },
    {
      "cell_type": "markdown",
      "source": [
        "## 04_how_old_are_they"
      ],
      "metadata": {
        "id": "HX6G0Kj4u3f2"
      }
    },
    {
      "cell_type": "code",
      "source": [
        "def main():\n",
        "    anton = 21                     # Anton's age\n",
        "    beth = anton + 6              # Beth is 6 years older than Anton\n",
        "    chen = beth + 20             # Chen is 20 years older than Beth\n",
        "    drew = chen + anton          # Drew is as old as Chen + Anton\n",
        "    ethan = chen                 # Ethan is the same age as Chen\n",
        "\n",
        "    # Print their names and ages exactly as expected\n",
        "    print(\"Anton is \" + str(anton))\n",
        "    print(\"Beth is \" + str(beth))\n",
        "    print(\"Chen is \" + str(chen))\n",
        "    print(\"Drew is \" + str(drew))\n",
        "    print(\"Ethan is \" + str(ethan))\n",
        "\n",
        "if __name__ == '__main__':\n",
        "    main()"
      ],
      "metadata": {
        "colab": {
          "base_uri": "https://localhost:8080/"
        },
        "id": "-snHr4ZYu68U",
        "outputId": "290ec20f-c160-41a6-b7b8-ee2025423a6d"
      },
      "execution_count": null,
      "outputs": [
        {
          "output_type": "stream",
          "name": "stdout",
          "text": [
            "Anton is 21\n",
            "Beth is 27\n",
            "Chen is 47\n",
            "Drew is 68\n",
            "Ethan is 47\n"
          ]
        }
      ]
    },
    {
      "cell_type": "markdown",
      "source": [
        "## 05_triangle_perimeter"
      ],
      "metadata": {
        "id": "JwEzFsSbvNcv"
      }
    },
    {
      "cell_type": "code",
      "source": [
        "def main():\n",
        "    # Get the 3 side lengths of the triangle\n",
        "    side1: float = float(input(\"What is the length of side 1? \"))\n",
        "    side2: float = float(input(\"What is the length of side 2? \"))\n",
        "    side3: float = float(input(\"What is the length of side 3? \"))\n",
        "\n",
        "    # Print out the perimeter (sum of the sides) of the triangle, make sure to cast it to a str when concatenating!\n",
        "    print(\"The perimeter of the triangle is \" + str(side1 + side2 + side3))\n",
        "\n",
        "if __name__ == '__main__':\n",
        "    main()"
      ],
      "metadata": {
        "colab": {
          "base_uri": "https://localhost:8080/"
        },
        "id": "UctBMrNhvOdG",
        "outputId": "488ab9fe-26f2-4cba-ede4-0d09080f3896"
      },
      "execution_count": null,
      "outputs": [
        {
          "output_type": "stream",
          "name": "stdout",
          "text": [
            "What is the length of side 1? 3\n",
            "What is the length of side 2? 5\n",
            "What is the length of side 3? 7\n",
            "The perimeter of the triangle is 15.0\n"
          ]
        }
      ]
    },
    {
      "cell_type": "markdown",
      "source": [
        "## 06_square_number"
      ],
      "metadata": {
        "id": "rivXuha4vacI"
      }
    },
    {
      "cell_type": "code",
      "source": [
        "\n",
        "def main():\n",
        "    num: float = float(input(\"Type a number to see its square: \")) # Make sure to cast the input to a float so we can do math with it!\n",
        "    print(str(num) + \" squared is \" + str(num ** 2)) # num * num is equivalent to num ** 2. The ** operator raises something to a power!\n",
        "\n",
        "if __name__ == '__main__':\n",
        "    main()"
      ],
      "metadata": {
        "colab": {
          "base_uri": "https://localhost:8080/"
        },
        "id": "0T0f0nIvvddP",
        "outputId": "2f550ccf-18e1-477b-e2f5-9f6863bc206c"
      },
      "execution_count": null,
      "outputs": [
        {
          "output_type": "stream",
          "name": "stdout",
          "text": [
            "Type a number to see its square: 10\n",
            "10.0 squared is 100.0\n"
          ]
        }
      ]
    },
    {
      "cell_type": "markdown",
      "source": [
        "## 01_expressions"
      ],
      "metadata": {
        "id": "Sb3yYaG9wSF_"
      }
    },
    {
      "cell_type": "markdown",
      "source": [
        "##01_dicesimulator"
      ],
      "metadata": {
        "id": "cgm7kN5TwU71"
      }
    },
    {
      "cell_type": "code",
      "source": [
        "# Import the random library which lets us simulate random things like dice!\n",
        "import random\n",
        "\n",
        "# Number of sides on each die to roll\n",
        "NUM_SIDES = 6\n",
        "\n",
        "def roll_dice():\n",
        "    \"\"\"\n",
        "    Simulates rolling two dice and prints their total\n",
        "    \"\"\"\n",
        "    die1: int = random.randint(1, NUM_SIDES)\n",
        "    die2: int = random.randint(1, NUM_SIDES)\n",
        "    total: int = die1 + die2\n",
        "    print(\"Total of two dice:\", total)\n",
        "\n",
        "def main():\n",
        "    die1: int = 10  # This die1 is local to main()\n",
        "    print(\"die1 in main() starts as: \" + str(die1))\n",
        "    roll_dice()\n",
        "    roll_dice()\n",
        "    roll_dice()\n",
        "    print(\"die1 in main() is: \" + str(die1))  # This will still be 10, showing scope\n",
        "\n",
        "if __name__ == '__main__':\n",
        "    main()"
      ],
      "metadata": {
        "colab": {
          "base_uri": "https://localhost:8080/"
        },
        "id": "DNrX2Dp6wbOQ",
        "outputId": "54201544-6fdd-4fa3-c67a-2f28a6db2dbd"
      },
      "execution_count": null,
      "outputs": [
        {
          "output_type": "stream",
          "name": "stdout",
          "text": [
            "die1 in main() starts as: 10\n",
            "Total of two dice: 7\n",
            "Total of two dice: 7\n",
            "Total of two dice: 2\n",
            "die1 in main() is: 10\n"
          ]
        }
      ]
    },
    {
      "cell_type": "markdown",
      "source": [
        "## 02_e=mc2"
      ],
      "metadata": {
        "id": "CVxo_jxk3knt"
      }
    },
    {
      "cell_type": "code",
      "source": [
        "C: int = 299792458  # The speed of light in m/s\n",
        "\n",
        "def main():\n",
        "    mass_in_kg: float = float(input(\"Enter kilos of mass: \"))\n",
        "\n",
        "    # Calculate energy using Einstein's formula\n",
        "    energy_in_joules: float = mass_in_kg * (C ** 2)\n",
        "\n",
        "    # Display detailed results\n",
        "    print(\"e = m * C^2...\")\n",
        "    print(\"m = \" + str(mass_in_kg) + \" kg\")\n",
        "    print(\"C = \" + str(C) + \" m/s\")\n",
        "    print(str(energy_in_joules) + \" joules of energy!\")\n",
        "\n",
        "if __name__ == '__main__':\n",
        "    main()"
      ],
      "metadata": {
        "colab": {
          "base_uri": "https://localhost:8080/"
        },
        "id": "hr3fdCvb3wFs",
        "outputId": "1cabf21a-246d-4923-ad3e-2c14910cdcfd"
      },
      "execution_count": null,
      "outputs": [
        {
          "output_type": "stream",
          "name": "stdout",
          "text": [
            "Enter kilos of mass: 39\n",
            "e = m * C^2...\n",
            "m = 39.0 kg\n",
            "C = 299792458 m/s\n",
            "3.5051451970735887e+18 joules of energy!\n"
          ]
        }
      ]
    },
    {
      "cell_type": "markdown",
      "source": [
        "## 03_feet_to_inches"
      ],
      "metadata": {
        "id": "2sgSciYz39Wl"
      }
    },
    {
      "cell_type": "code",
      "source": [
        "INCHES_IN_FOOT: int = 12  # Conversion factor. There are 12 inches for 1 foot.\n",
        "\n",
        "def main():\n",
        "    feet: float = float(input(\"Enter number of feet: \"))  # Get the number of feet\n",
        "    inches: float = feet * INCHES_IN_FOOT  # Perform the conversion\n",
        "    print(\"That is\", inches, \"inches!\")\n",
        "\n",
        "if __name__ == '__main__':\n",
        "    main()"
      ],
      "metadata": {
        "colab": {
          "base_uri": "https://localhost:8080/"
        },
        "id": "ljbr6LdD4Ao1",
        "outputId": "0f9c903c-9880-458c-bb96-5004b0b2e59e"
      },
      "execution_count": null,
      "outputs": [
        {
          "output_type": "stream",
          "name": "stdout",
          "text": [
            "Enter number of feet: 52\n",
            "That is 624.0 inches!\n"
          ]
        }
      ]
    },
    {
      "cell_type": "markdown",
      "source": [
        "## 04_pythagorean_theorem"
      ],
      "metadata": {
        "id": "XgiiS28r4OcJ"
      }
    },
    {
      "cell_type": "code",
      "source": [
        "import math  # Import the math library so we can use the sqrt function\n",
        "\n",
        "def main():\n",
        "    # Get the two side lengths from the user and cast them to be numbers\n",
        "    ab: float = float(input(\"Enter the length of AB: \"))\n",
        "    ac: float = float(input(\"Enter the length of AC: \"))\n",
        "\n",
        "    # Calculate the hypotenuse using the two sides and print it out\n",
        "    bc: float = math.sqrt(ab**2 + ac**2)\n",
        "    print(\"The length of BC (the hypotenuse) is: \" + str(bc))\n",
        "\n",
        "if __name__ == '__main__':\n",
        "    main()"
      ],
      "metadata": {
        "colab": {
          "base_uri": "https://localhost:8080/"
        },
        "id": "-03RYd9C4RtF",
        "outputId": "d2aed2b0-488a-4e30-9870-3ce538c28f20"
      },
      "execution_count": null,
      "outputs": [
        {
          "output_type": "stream",
          "name": "stdout",
          "text": [
            "Enter the length of AB: 23\n",
            "Enter the length of AC: 10\n",
            "The length of BC (the hypotenuse) is: 25.079872407968907\n"
          ]
        }
      ]
    },
    {
      "cell_type": "markdown",
      "source": [
        "## 05_remainder_division"
      ],
      "metadata": {
        "id": "3J0fYgiv4sA7"
      }
    },
    {
      "cell_type": "code",
      "source": [
        "def main():\n",
        "    # Get the numbers we want to divide\n",
        "    dividend: int = int(input(\"Please enter an integer to be divided: \"))\n",
        "    divisor: int = int(input(\"Please enter an integer to divide by: \"))\n",
        "\n",
        "    quotient: int = dividend // divisor  # Integer division\n",
        "    remainder: int = dividend % divisor  # Remainder from division\n",
        "\n",
        "    print(\"The result of this division is \" + str(quotient) + \" with a remainder of \" + str(remainder))\n",
        "\n",
        "if __name__ == '__main__':\n",
        "    main()"
      ],
      "metadata": {
        "colab": {
          "base_uri": "https://localhost:8080/"
        },
        "id": "uzYbZTtS4tCs",
        "outputId": "acecdce4-159b-410e-9115-88d607673e10"
      },
      "execution_count": null,
      "outputs": [
        {
          "output_type": "stream",
          "name": "stdout",
          "text": [
            "Please enter an integer to be divided: 19\n",
            "Please enter an integer to divide by: 8\n",
            "The result of this division is 2 with a remainder of 3\n"
          ]
        }
      ]
    },
    {
      "cell_type": "markdown",
      "source": [
        "## 06_rolldice"
      ],
      "metadata": {
        "id": "sZV-V04J47jV"
      }
    },
    {
      "cell_type": "code",
      "source": [
        "# Import the random library which lets us simulate random things like dice!\n",
        "import random\n",
        "\n",
        "# Number of sides on each die to roll\n",
        "NUM_SIDES: int = 6\n",
        "\n",
        "def main():\n",
        "    # Roll die\n",
        "    die1: int = random.randint(1, NUM_SIDES)\n",
        "    die2: int = random.randint(1, NUM_SIDES)\n",
        "\n",
        "    # Get their total\n",
        "    total: int = die1 + die2\n",
        "\n",
        "    # Print out the results\n",
        "    print(\"Dice have\", NUM_SIDES, \"sides each.\")\n",
        "    print(\"First die:\", die1)\n",
        "    print(\"Second die:\", die2)\n",
        "    print(\"Total of two dice:\", total)\n",
        "\n",
        "if __name__ == '__main__':\n",
        "    main()"
      ],
      "metadata": {
        "colab": {
          "base_uri": "https://localhost:8080/"
        },
        "id": "JDeZtQUz48NF",
        "outputId": "ce80476d-b943-4f7d-8de7-da976f39152a"
      },
      "execution_count": null,
      "outputs": [
        {
          "output_type": "stream",
          "name": "stdout",
          "text": [
            "Dice have 6 sides each.\n",
            "First die: 5\n",
            "Second die: 2\n",
            "Total of two dice: 7\n"
          ]
        }
      ]
    },
    {
      "cell_type": "markdown",
      "source": [
        "## 06_seconds_in_year"
      ],
      "metadata": {
        "id": "m0D7LAyj5SGt"
      }
    },
    {
      "cell_type": "code",
      "source": [
        "# Useful constants to help make the math easier and cleaner!\n",
        "DAYS_PER_YEAR: int = 365\n",
        "HOURS_PER_DAY: int = 24\n",
        "MIN_PER_HOUR: int = 60\n",
        "SEC_PER_MIN: int = 60\n",
        "\n",
        "def main():\n",
        "    # We can get the number of seconds per year by multiplying the handy constants above!\n",
        "    seconds_per_year: int = DAYS_PER_YEAR * HOURS_PER_DAY * MIN_PER_HOUR * SEC_PER_MIN\n",
        "    print(\"There are \" + str(seconds_per_year) + \" seconds in a year!\")\n",
        "\n",
        "if __name__ == '__main__':\n",
        "    main()"
      ],
      "metadata": {
        "colab": {
          "base_uri": "https://localhost:8080/"
        },
        "id": "xZ33ZGfa5S8y",
        "outputId": "eb84bc15-79de-4aa3-c32a-52036517868e"
      },
      "execution_count": null,
      "outputs": [
        {
          "output_type": "stream",
          "name": "stdout",
          "text": [
            "There are 31536000 seconds in a year!\n"
          ]
        }
      ]
    },
    {
      "cell_type": "markdown",
      "source": [
        "## 07_tiny_mad_lib"
      ],
      "metadata": {
        "id": "yC3-8Dlj5n98"
      }
    },
    {
      "cell_type": "code",
      "source": [
        "SENTENCE_START: str = \"Panaversity is fun. I learned to program and used Python to make my \"  # adjective noun verb\n",
        "\n",
        "def main():\n",
        "    # Get the three inputs from the user to make the adlib\n",
        "    adjective: str = input(\"Please type an adjective and press enter. \")\n",
        "    noun: str = input(\"Please type a noun and press enter. \")\n",
        "    verb: str = input(\"Please type a verb and press enter. \")\n",
        "\n",
        "    # Join the inputs together with the sentence starter\n",
        "    print(SENTENCE_START + adjective + \" \" + noun + \" \" + verb + \"!\")\n",
        "\n",
        "if __name__ == '__main__':\n",
        "    main()"
      ],
      "metadata": {
        "colab": {
          "base_uri": "https://localhost:8080/"
        },
        "id": "aR3eO5wr5o4t",
        "outputId": "1bdbbd16-ead9-4314-f5e1-39c997e1f69e"
      },
      "execution_count": null,
      "outputs": [
        {
          "output_type": "stream",
          "name": "stdout",
          "text": [
            "Please type an adjective and press enter. intelligent\n",
            "Please type a noun and press enter. Mehak\n",
            "Please type a verb and press enter. coding\n",
            "Panaversity is fun. I learned to program and used Python to make my intelligent Mehak coding!\n"
          ]
        }
      ]
    },
    {
      "cell_type": "markdown",
      "source": [
        "# 02_lists"
      ],
      "metadata": {
        "id": "uFJa3It46CAr"
      }
    },
    {
      "cell_type": "markdown",
      "source": [
        "## 01_add_many_number"
      ],
      "metadata": {
        "id": "nXPsbHNh6Fb9"
      }
    },
    {
      "cell_type": "code",
      "source": [
        "def add_many_numbers(numbers) -> int:\n",
        "    \"\"\"\n",
        "    Takes in a list of numbers and returns the sum of those numbers.\n",
        "    \"\"\"\n",
        "    total_so_far: int = 0\n",
        "    for number in numbers:\n",
        "        total_so_far += number\n",
        "    return total_so_far\n",
        "\n",
        "def main():\n",
        "    numbers: list[int] = [1, 2, 3, 4, 5]  # Make a list of numbers\n",
        "    sum_of_numbers: int = add_many_numbers(numbers)  # Find the sum of the list\n",
        "    print(sum_of_numbers)  # Print out the sum above\n",
        "\n",
        "if __name__ == '__main__':\n",
        "    main()"
      ],
      "metadata": {
        "colab": {
          "base_uri": "https://localhost:8080/"
        },
        "id": "nfVrpFrI6KSj",
        "outputId": "f75e1095-407c-4224-bf9d-2c2ebc22680b"
      },
      "execution_count": null,
      "outputs": [
        {
          "output_type": "stream",
          "name": "stdout",
          "text": [
            "15\n"
          ]
        }
      ]
    },
    {
      "cell_type": "markdown",
      "source": [
        "## 02_double_list"
      ],
      "metadata": {
        "id": "1GGuxMaq6ZOM"
      }
    },
    {
      "cell_type": "code",
      "source": [
        "def main():\n",
        "    numbers: list[int] = [1, 2, 3, 4]  # Creates a list of numbers\n",
        "\n",
        "    for i in range(len(numbers)):  # Loop through the indices of the list\n",
        "        elem_at_index = numbers[i]  # Get the element at index i in the numbers list\n",
        "        numbers[i] = elem_at_index * 2  # Double the element at index i\n",
        "\n",
        "    print(numbers)  # This should print the doubled list\n",
        "\n",
        "if __name__ == '__main__':\n",
        "    main()"
      ],
      "metadata": {
        "colab": {
          "base_uri": "https://localhost:8080/"
        },
        "id": "YabVkq386ikW",
        "outputId": "132ce9b0-913c-4419-c5dd-23094200c391"
      },
      "execution_count": null,
      "outputs": [
        {
          "output_type": "stream",
          "name": "stdout",
          "text": [
            "[2, 4, 6, 8]\n"
          ]
        }
      ]
    },
    {
      "cell_type": "markdown",
      "source": [
        "## 03_erase_canvas"
      ],
      "metadata": {
        "id": "yI8g5Kqh6m0k"
      }
    },
    {
      "cell_type": "code",
      "source": [
        "from graphics import Canvas\n",
        "import time\n",
        "\n",
        "CANVAS_WIDTH : int = 400\n",
        "CANVAS_HEIGHT : int = 400\n",
        "\n",
        "CELL_SIZE : int = 40\n",
        "ERASER_SIZE : int = 20\n",
        "\n",
        "def erase_objects(canvas, eraser):\n",
        "    \"\"\"Erase objects in contact with the eraser\"\"\"\n",
        "    # Get mouse info to help us know which cells to delete\n",
        "    mouse_x = canvas.get_mouse_x()\n",
        "    mouse_y = canvas.get_mouse_y()\n",
        "\n",
        "    # Calculate where our eraser is\n",
        "    left_x = mouse_x\n",
        "    top_y = mouse_y\n",
        "    right_x = left_x + ERASER_SIZE\n",
        "    bottom_y = top_y + ERASER_SIZE\n",
        "\n",
        "    # Find things that overlap with our eraser\n",
        "    overlapping_objects = canvas.find_overlapping(left_x, top_y, right_x, bottom_y)\n",
        "\n",
        "    # For everything that overlaps with our eraser (that isn't our eraser), change\n",
        "    # its color to white\n",
        "    for overlapping_object in overlapping_objects:\n",
        "        if overlapping_object != eraser:\n",
        "            canvas.set_color(overlapping_object, 'white')\n",
        "\n",
        "# There is no need to edit code beyond this point\n",
        "\n",
        "def main():\n",
        "    canvas = Canvas(CANVAS_WIDTH, CANVAS_HEIGHT)\n",
        "\n",
        "    num_rows = CANVAS_HEIGHT // CELL_SIZE  # Figure out how many rows of cells we need\n",
        "    num_cols = CANVAS_WIDTH // CELL_SIZE   # Figure out how many columns of cells we need\n",
        "\n",
        "    # Make a grid of squares based on the number of rows and columns.\n",
        "    # The rows and columns along with our cell size help determine where\n",
        "    # each individual cell belongs in our grid!\n",
        "    for row in range(num_rows):\n",
        "        for col in range(num_cols):\n",
        "            left_x = col * CELL_SIZE\n",
        "            top_y = row * CELL_SIZE\n",
        "            right_x = left_x + CELL_SIZE   # The right coordinate of the cell is CELL_SIZE pixels away from the left\n",
        "            bottom_y = top_y + CELL_SIZE   # The bottom coordinate of the cell is CELL_SIZE pixels away from the top\n",
        "\n",
        "            # Create a single cell in the grid\n",
        "            cell = canvas.create_rectangle(left_x, top_y, right_x, bottom_y, 'blue')\n",
        "\n",
        "\n",
        "    canvas.wait_for_click()  # Wait for the user to click before creating the eraser\n",
        "\n",
        "    last_click_x, last_click_y = canvas.get_last_click()  # Get the starting location for the eraser\n",
        "\n",
        "    # Create our eraser\n",
        "    eraser = canvas.create_rectangle(\n",
        "        last_click_x,\n",
        "        last_click_y,\n",
        "        last_click_x + ERASER_SIZE,\n",
        "        last_click_y + ERASER_SIZE,\n",
        "        'pink'\n",
        "    )\n",
        "\n",
        "    # Move the eraser, and erase what it's touching\n",
        "    while True:\n",
        "        # Get where our mouse is and move the eraser to there\n",
        "        mouse_x = canvas.get_mouse_x()\n",
        "        mouse_y = canvas.get_mouse_y()\n",
        "        canvas.moveto(eraser, mouse_x, mouse_y)\n",
        "\n",
        "        # Erase anything touching the eraser\n",
        "        erase_objects(canvas, eraser)\n",
        "\n",
        "        time.sleep(0.05)\n",
        "\n",
        "\n",
        "if __name__ == '__main__':\n",
        "    main()"
      ],
      "metadata": {
        "colab": {
          "base_uri": "https://localhost:8080/",
          "height": 384
        },
        "id": "S0x5B8en6prD",
        "outputId": "6254ebf1-383e-41d9-cbe5-94e4238cb18d"
      },
      "execution_count": null,
      "outputs": [
        {
          "output_type": "error",
          "ename": "ModuleNotFoundError",
          "evalue": "No module named 'graphics'",
          "traceback": [
            "\u001b[0;31m---------------------------------------------------------------------------\u001b[0m",
            "\u001b[0;31mModuleNotFoundError\u001b[0m                       Traceback (most recent call last)",
            "\u001b[0;32m<ipython-input-19-fe2cd1c6f4c4>\u001b[0m in \u001b[0;36m<cell line: 0>\u001b[0;34m()\u001b[0m\n\u001b[0;32m----> 1\u001b[0;31m \u001b[0;32mfrom\u001b[0m \u001b[0mgraphics\u001b[0m \u001b[0;32mimport\u001b[0m \u001b[0mCanvas\u001b[0m\u001b[0;34m\u001b[0m\u001b[0;34m\u001b[0m\u001b[0m\n\u001b[0m\u001b[1;32m      2\u001b[0m \u001b[0;32mimport\u001b[0m \u001b[0mtime\u001b[0m\u001b[0;34m\u001b[0m\u001b[0;34m\u001b[0m\u001b[0m\n\u001b[1;32m      3\u001b[0m \u001b[0;34m\u001b[0m\u001b[0m\n\u001b[1;32m      4\u001b[0m \u001b[0mCANVAS_WIDTH\u001b[0m \u001b[0;34m:\u001b[0m \u001b[0mint\u001b[0m \u001b[0;34m=\u001b[0m \u001b[0;36m400\u001b[0m\u001b[0;34m\u001b[0m\u001b[0;34m\u001b[0m\u001b[0m\n\u001b[1;32m      5\u001b[0m \u001b[0mCANVAS_HEIGHT\u001b[0m \u001b[0;34m:\u001b[0m \u001b[0mint\u001b[0m \u001b[0;34m=\u001b[0m \u001b[0;36m400\u001b[0m\u001b[0;34m\u001b[0m\u001b[0;34m\u001b[0m\u001b[0m\n",
            "\u001b[0;31mModuleNotFoundError\u001b[0m: No module named 'graphics'",
            "",
            "\u001b[0;31m---------------------------------------------------------------------------\u001b[0;32m\nNOTE: If your import is failing due to a missing package, you can\nmanually install dependencies using either !pip or !apt.\n\nTo view examples of installing some common dependencies, click the\n\"Open Examples\" button below.\n\u001b[0;31m---------------------------------------------------------------------------\u001b[0m\n"
          ],
          "errorDetails": {
            "actions": [
              {
                "action": "open_url",
                "actionText": "Open Examples",
                "url": "/notebooks/snippets/importing_libraries.ipynb"
              }
            ]
          }
        }
      ]
    },
    {
      "cell_type": "markdown",
      "source": [
        "## 04_flowing_with_data_structures"
      ],
      "metadata": {
        "id": "Gi8UU-pN8sza"
      }
    },
    {
      "cell_type": "code",
      "source": [
        "def add_three_copies(my_list, data):\n",
        "    for i in range(3):\n",
        "        my_list.append(data)\n",
        "\n",
        "def main():\n",
        "    message = input(\"Enter a message to copy: \")\n",
        "    my_list = []\n",
        "    print(\"List before:\", my_list)\n",
        "    add_three_copies(my_list, message)\n",
        "    print(\"List after:\", my_list)\n",
        "\n",
        "if __name__ == \"__main__\":\n",
        "    main()"
      ],
      "metadata": {
        "colab": {
          "base_uri": "https://localhost:8080/"
        },
        "id": "d4xl3bZI8tl2",
        "outputId": "8e551904-5f43-45f3-b7ae-81af502131d4"
      },
      "execution_count": null,
      "outputs": [
        {
          "output_type": "stream",
          "name": "stdout",
          "text": [
            "Enter a message to copy: hi there\n",
            "List before: []\n",
            "List after: ['hi there', 'hi there', 'hi there']\n"
          ]
        }
      ]
    },
    {
      "cell_type": "markdown",
      "source": [
        "## 05_get_first_element"
      ],
      "metadata": {
        "id": "B-WBU05G8zZo"
      }
    },
    {
      "cell_type": "code",
      "source": [
        "def get_first_element(lst):\n",
        "    \"\"\"\n",
        "    Prints the first element of a provided list.\n",
        "    \"\"\"\n",
        "    print(lst[0])\n",
        "\n",
        "def get_lst():\n",
        "    \"\"\"\n",
        "    Prompts the user to enter one element of the list at a time and returns the resulting list.\n",
        "    \"\"\"\n",
        "    lst = []\n",
        "    elem: str = input(\"Please enter an element of the list or press enter to stop. \")\n",
        "    while elem != \"\":\n",
        "        lst.append(elem)\n",
        "        elem = input(\"Please enter an element of the list or press enter to stop. \")\n",
        "    return lst\n",
        "\n",
        "def main():\n",
        "    lst = get_lst()\n",
        "    get_first_element(lst)\n",
        "\n",
        "if __name__ == '__main__':\n",
        "    main()"
      ],
      "metadata": {
        "colab": {
          "base_uri": "https://localhost:8080/"
        },
        "id": "h465c5qc82oT",
        "outputId": "cfdb492f-b7a2-4e6f-c700-133edd3bf502"
      },
      "execution_count": null,
      "outputs": [
        {
          "output_type": "stream",
          "name": "stdout",
          "text": [
            "Please enter an element of the list or press enter to stop. a\n",
            "Please enter an element of the list or press enter to stop. b\n",
            "Please enter an element of the list or press enter to stop. c\n",
            "Please enter an element of the list or press enter to stop. d\n",
            "Please enter an element of the list or press enter to stop. \n",
            "a\n"
          ]
        }
      ]
    },
    {
      "cell_type": "markdown",
      "source": [
        "## 06_get_last_element"
      ],
      "metadata": {
        "id": "l-b9tmYB9QC4"
      }
    },
    {
      "cell_type": "code",
      "source": [
        "def get_last_element(lst):\n",
        "    \"\"\"\n",
        "    Prints the last element of the provided list.\n",
        "    \"\"\"\n",
        "    # Using zero-based indexing: last element is at index len(lst) - 1\n",
        "    print(lst[len(lst) - 1])\n",
        "\n",
        "    # Or simply:\n",
        "    # print(lst[-1])\n",
        "\n",
        "def get_lst():\n",
        "    \"\"\"\n",
        "    Prompts the user to enter one element of the list at a time and returns the resulting list.\n",
        "    \"\"\"\n",
        "    lst = []\n",
        "    elem = input(\"Please enter an element of the list or press enter to stop. \")\n",
        "    while elem != \"\":\n",
        "        lst.append(elem)\n",
        "        elem = input(\"Please enter an element of the list or press enter to stop. \")\n",
        "    return lst\n",
        "\n",
        "def main():\n",
        "    lst = get_lst()\n",
        "    get_last_element(lst)\n",
        "\n",
        "if __name__ == '__main__':\n",
        "    main()"
      ],
      "metadata": {
        "colab": {
          "base_uri": "https://localhost:8080/"
        },
        "id": "WX_YhzOW9Q87",
        "outputId": "e3c64359-5f60-4289-882f-993506e394a5"
      },
      "execution_count": null,
      "outputs": [
        {
          "output_type": "stream",
          "name": "stdout",
          "text": [
            "Please enter an element of the list or press enter to stop. 1\n",
            "Please enter an element of the list or press enter to stop. 2\n",
            "Please enter an element of the list or press enter to stop. 3\n",
            "Please enter an element of the list or press enter to stop. 4\n",
            "Please enter an element of the list or press enter to stop. 5\n",
            "Please enter an element of the list or press enter to stop. \n",
            "5\n"
          ]
        }
      ]
    },
    {
      "cell_type": "markdown",
      "source": [
        "## 07_get_list"
      ],
      "metadata": {
        "id": "E_uFVS9e9hUV"
      }
    },
    {
      "cell_type": "code",
      "source": [
        "def main():\n",
        "    lst = []  # Make an empty list to store things in\n",
        "\n",
        "    val = input(\"Enter a value: \")  # Get an initial value\n",
        "    while val:  # While the user input isn't an empty value\n",
        "        lst.append(val)  # Add val to list\n",
        "        val = input(\"Enter a value: \")  # Get the next value to add\n",
        "\n",
        "    print(\"Here's the list:\", lst)\n",
        "\n",
        "if __name__ == '__main__':\n",
        "    main()"
      ],
      "metadata": {
        "colab": {
          "base_uri": "https://localhost:8080/"
        },
        "id": "L5E1-7gk9iih",
        "outputId": "f6075b68-16f2-4a20-867b-6611ab54e9b5"
      },
      "execution_count": null,
      "outputs": [
        {
          "output_type": "stream",
          "name": "stdout",
          "text": [
            "Enter a value: mehak\n",
            "Enter a value: faheem\n",
            "Enter a value: \n",
            "Here's the list: ['mehak', 'faheem']\n"
          ]
        }
      ]
    },
    {
      "cell_type": "markdown",
      "source": [
        "## 08_shorten"
      ],
      "metadata": {
        "id": "hYGByclN93Rk"
      }
    },
    {
      "cell_type": "code",
      "source": [
        "MAX_LENGTH: int = 3\n",
        "\n",
        "def shorten(lst):\n",
        "    while len(lst) > MAX_LENGTH:\n",
        "        last_elem = lst.pop()\n",
        "        print(last_elem)\n",
        "\n",
        "def get_lst():\n",
        "    \"\"\"\n",
        "    Prompts the user to enter one element of the list at a time and returns the resulting list.\n",
        "    \"\"\"\n",
        "    lst = []\n",
        "    elem = input(\"Please enter an element of the list or press enter to stop. \")\n",
        "    while elem != \"\":\n",
        "        lst.append(elem)\n",
        "        elem = input(\"Please enter an element of the list or press enter to stop. \")\n",
        "    return lst\n",
        "\n",
        "def main():\n",
        "    lst = get_lst()\n",
        "    shorten(lst)\n",
        "\n",
        "if __name__ == '__main__':\n",
        "    main()"
      ],
      "metadata": {
        "colab": {
          "base_uri": "https://localhost:8080/"
        },
        "id": "1c1VQ85x94Qr",
        "outputId": "82821738-fefb-4ec8-df67-97ad9536ceb6"
      },
      "execution_count": null,
      "outputs": [
        {
          "name": "stdout",
          "output_type": "stream",
          "text": [
            "Please enter an element of the list or press enter to stop. a\n",
            "Please enter an element of the list or press enter to stop. b\n",
            "Please enter an element of the list or press enter to stop. c\n",
            "Please enter an element of the list or press enter to stop. \n"
          ]
        }
      ]
    },
    {
      "cell_type": "markdown",
      "source": [
        "# 03_if_statements"
      ],
      "metadata": {
        "id": "Pe9_a27e-pvM"
      }
    },
    {
      "cell_type": "markdown",
      "source": [
        "## 01_print_events"
      ],
      "metadata": {
        "id": "wLtoNF4Y-vqh"
      }
    },
    {
      "cell_type": "code",
      "source": [
        "def main():\n",
        "    # Loop from 0 to 19 (20 numbers)\n",
        "    for i in range(20):\n",
        "        print(i * 2)  # Print the first 20 even numbers starting from 0\n",
        "\n",
        "if __name__ == '__main__':\n",
        "    main()"
      ],
      "metadata": {
        "colab": {
          "base_uri": "https://localhost:8080/"
        },
        "id": "MlG1v8eZ-sNo",
        "outputId": "3b1f2f7d-dcb7-431d-ed46-04199cf7bdc4"
      },
      "execution_count": null,
      "outputs": [
        {
          "output_type": "stream",
          "name": "stdout",
          "text": [
            "0\n",
            "2\n",
            "4\n",
            "6\n",
            "8\n",
            "10\n",
            "12\n",
            "14\n",
            "16\n",
            "18\n",
            "20\n",
            "22\n",
            "24\n",
            "26\n",
            "28\n",
            "30\n",
            "32\n",
            "34\n",
            "36\n",
            "38\n"
          ]
        }
      ]
    },
    {
      "cell_type": "markdown",
      "source": [
        "## 02_international_voting_age"
      ],
      "metadata": {
        "id": "jUK_9zxw-4cK"
      }
    },
    {
      "cell_type": "code",
      "source": [
        "PETURKSBOUIPO_AGE : int = 16\n",
        "STANLAU_AGE : int = 25\n",
        "MAYENGUA_AGE : int = 48\n",
        "\n",
        "def main():\n",
        "    # Get the user's age\n",
        "    user_age = int(input(\"How old are you? \"))\n",
        "\n",
        "    # Check if the user can vote in Peturksbouipo\n",
        "    if user_age >= PETURKSBOUIPO_AGE:\n",
        "        print(\"You can vote in Peturksbouipo where the voting age is \" + str(PETURKSBOUIPO_AGE) + \".\")\n",
        "    else:\n",
        "        print(\"You cannot vote in Peturksbouipo where the voting age is \" + str(PETURKSBOUIPO_AGE) + \".\")\n",
        "\n",
        "    # Check if the user can vote in Stanlau\n",
        "    if user_age >= STANLAU_AGE:\n",
        "        print(\"You can vote in Stanlau where the voting age is \" + str(STANLAU_AGE) + \".\")\n",
        "    else:\n",
        "        print(\"You cannot vote in Stanlau where the voting age is \" + str(STANLAU_AGE) + \".\")\n",
        "\n",
        "    # Check if user can vote in Mayengua\n",
        "    if user_age >= MAYENGUA_AGE:\n",
        "        print(\"You can vote in Mayengua where the voting age is \" + str(MAYENGUA_AGE) + \".\")\n",
        "    else:\n",
        "        print(\"You cannot vote in Mayengua where the voting age is \" + str(MAYENGUA_AGE) + \".\")\n",
        "\n",
        "if __name__ == '__main__':\n",
        "    main()"
      ],
      "metadata": {
        "colab": {
          "base_uri": "https://localhost:8080/"
        },
        "id": "_YnxFP9J-9C7",
        "outputId": "2d825f3f-fd0c-4deb-bd6b-6e2f6ba50e20"
      },
      "execution_count": null,
      "outputs": [
        {
          "output_type": "stream",
          "name": "stdout",
          "text": [
            "How old are you? 19\n",
            "You can vote in Peturksbouipo where the voting age is 16.\n",
            "You cannot vote in Stanlau where the voting age is 25.\n",
            "You cannot vote in Mayengua where the voting age is 48.\n"
          ]
        }
      ]
    },
    {
      "cell_type": "markdown",
      "source": [
        "## 03_leap_year"
      ],
      "metadata": {
        "id": "1OvG4cIT_K-5"
      }
    },
    {
      "cell_type": "code",
      "source": [
        "def main():\n",
        "    # Get the year to check from the user\n",
        "    year = int(input('Please input a year: '))\n",
        "\n",
        "    if year % 4 == 0:  # Checking whether the provided year is evenly divisible by 4\n",
        "        if year % 100 == 0:  # Checking whether the provided year is evenly divisible by 100\n",
        "            if year % 400 == 0:  # Checking whether the provided year is evenly divisible by 400\n",
        "                print(\"That's a leap year!\")\n",
        "            else:  # (Not divisible by 400)\n",
        "                print(\"That's not a leap year.\")\n",
        "        else:  # (Not divisible by 100)\n",
        "            print(\"That's a leap year!\")\n",
        "    else:  # (Not divisible by 4)\n",
        "        print(\"That's not a leap year.\")\n",
        "\n",
        "if __name__ == '__main__':\n",
        "    main()"
      ],
      "metadata": {
        "colab": {
          "base_uri": "https://localhost:8080/"
        },
        "id": "_NrO-P83_Ovl",
        "outputId": "9aef6a60-7f29-41ea-8482-4f9490637769"
      },
      "execution_count": null,
      "outputs": [
        {
          "output_type": "stream",
          "name": "stdout",
          "text": [
            "Please input a year: 2005\n",
            "That's not a leap year.\n"
          ]
        }
      ]
    },
    {
      "cell_type": "markdown",
      "source": [
        "## 04_tall_enough_to_ride"
      ],
      "metadata": {
        "id": "NCixkPQn_YjR"
      }
    },
    {
      "cell_type": "code",
      "source": [
        "MINIMUM_HEIGHT : int = 50  # arbitrary units :)\n",
        "\n",
        "def main():\n",
        "    height = float(input(\"How tall are you? \"))\n",
        "    if height >= MINIMUM_HEIGHT:\n",
        "        print(\"You're tall enough to ride!\")\n",
        "    else:\n",
        "        print(\"You're not tall enough to ride, but maybe next year!\")\n",
        "\n",
        "def tall_enough_extension():\n",
        "    while True:\n",
        "        height_input = input(\"How tall are you? \")\n",
        "        if height_input == \"\":\n",
        "            break\n",
        "        height = float(height_input)\n",
        "        if height >= MINIMUM_HEIGHT:\n",
        "            print(\"You're tall enough to ride!\")\n",
        "        else:\n",
        "            print(\"You're not tall enough to ride, but maybe next year!\")\n",
        "\n",
        "if __name__ == '__main__':\n",
        "    main()"
      ],
      "metadata": {
        "colab": {
          "base_uri": "https://localhost:8080/"
        },
        "id": "eBROypN__b_g",
        "outputId": "a3fabccf-463f-4254-d3e8-a055b439c47e"
      },
      "execution_count": null,
      "outputs": [
        {
          "output_type": "stream",
          "name": "stdout",
          "text": [
            "How tall are you? 155\n",
            "You're tall enough to ride!\n"
          ]
        }
      ]
    },
    {
      "cell_type": "markdown",
      "source": [
        "## 05_random_numbers"
      ],
      "metadata": {
        "id": "V0wFaonh_0Dt"
      }
    },
    {
      "cell_type": "code",
      "source": [
        "import random\n",
        "\n",
        "N_NUMBERS : int = 10\n",
        "MIN_VALUE : int = 1\n",
        "MAX_VALUE : int = 100\n",
        "\n",
        "def main():\n",
        "    for _ in range(N_NUMBERS):\n",
        "        print(random.randint(MIN_VALUE, MAX_VALUE))\n",
        "\n",
        "if __name__ == '__main__':\n",
        "    main()"
      ],
      "metadata": {
        "colab": {
          "base_uri": "https://localhost:8080/"
        },
        "id": "Uxinj99L_1Dp",
        "outputId": "797ecb5a-cc43-4779-92bd-c7f86b6d0f22"
      },
      "execution_count": null,
      "outputs": [
        {
          "output_type": "stream",
          "name": "stdout",
          "text": [
            "50\n",
            "4\n",
            "8\n",
            "43\n",
            "5\n",
            "77\n",
            "78\n",
            "34\n",
            "30\n",
            "66\n"
          ]
        }
      ]
    },
    {
      "cell_type": "markdown",
      "source": [
        "# 04_dictionaries"
      ],
      "metadata": {
        "id": "ebIlck2jQzLB"
      }
    },
    {
      "cell_type": "markdown",
      "source": [
        "## 00_count_nums"
      ],
      "metadata": {
        "id": "YkaBXiTGQ8vH"
      }
    },
    {
      "cell_type": "code",
      "source": [
        "def get_user_numbers():\n",
        "    \"\"\"\n",
        "    Create an empty list.\n",
        "    Ask the user to input numbers and store them in a list.\n",
        "    Once they enter a blank line, break out of the loop and return the list.\n",
        "    \"\"\"\n",
        "    user_numbers = []\n",
        "    while True:\n",
        "        user_input = input(\"Enter a number: \")\n",
        "\n",
        "        # If the user enters a blank line, break out of the loop and stop asking for input\n",
        "        if user_input == \"\":\n",
        "            break\n",
        "\n",
        "        # convert the user input to an integer and add it to the list\n",
        "        num = int(user_input)\n",
        "        user_numbers.append(num)\n",
        "\n",
        "    return user_numbers\n",
        "\n",
        "def count_nums(num_lst):\n",
        "    \"\"\"\n",
        "    Create an empty dictionary.\n",
        "    Loop over the list of numbers.\n",
        "    If the number is not in the dictionary, add it as a key with a value of 1.\n",
        "    If the number is in the dictionary, increment its value by 1.\n",
        "    \"\"\"\n",
        "    num_dict = {}\n",
        "    for num in num_lst:\n",
        "        if num not in num_dict:\n",
        "            num_dict[num] = 1\n",
        "        else:\n",
        "            num_dict[num] += 1\n",
        "\n",
        "    return num_dict\n",
        "\n",
        "def print_counts(num_dict):\n",
        "    \"\"\"\n",
        "    Loop over the dictionary and print out each key and its value.\n",
        "    \"\"\"\n",
        "    for num in num_dict:\n",
        "        print(f\"{num} appears {num_dict[num]} times.\")\n",
        "\n",
        "def main():\n",
        "    \"\"\"\n",
        "    Ask the user to input numbers and store them in a list. Once they enter a blank line,\n",
        "    print out the number of times each number appeared in the list.\n",
        "    \"\"\"\n",
        "    user_numbers = get_user_numbers()\n",
        "    num_dict = count_nums(user_numbers)\n",
        "    print_counts(num_dict)\n",
        "\n",
        "# Python boilerplate.\n",
        "if __name__ == '__main__':\n",
        "    main()"
      ],
      "metadata": {
        "id": "w6rDojuW_3gL",
        "colab": {
          "base_uri": "https://localhost:8080/"
        },
        "outputId": "0f377f58-461d-44d7-f7d3-7ee71a7dce92"
      },
      "execution_count": null,
      "outputs": [
        {
          "output_type": "stream",
          "name": "stdout",
          "text": [
            "Enter a number: 1\n",
            "Enter a number: 2\n",
            "Enter a number: 3\n",
            "Enter a number: 4\n",
            "Enter a number: 5\n",
            "Enter a number: 6\n",
            "Enter a number: 7\n",
            "Enter a number: 8\n",
            "Enter a number: 9\n",
            "Enter a number: 10\n",
            "Enter a number: 11\n",
            "Enter a number: 12\n",
            "Enter a number: 13\n",
            "Enter a number: \n",
            "1 appears 1 times.\n",
            "2 appears 1 times.\n",
            "3 appears 1 times.\n",
            "4 appears 1 times.\n",
            "5 appears 1 times.\n",
            "6 appears 1 times.\n",
            "7 appears 1 times.\n",
            "8 appears 1 times.\n",
            "9 appears 1 times.\n",
            "10 appears 1 times.\n",
            "11 appears 1 times.\n",
            "12 appears 1 times.\n",
            "13 appears 1 times.\n"
          ]
        }
      ]
    },
    {
      "cell_type": "markdown",
      "source": [],
      "metadata": {
        "id": "LlZdtIVnQ8Kr"
      }
    },
    {
      "cell_type": "markdown",
      "source": [
        "## 01_phonebook"
      ],
      "metadata": {
        "id": "N1nijeJGRkBY"
      }
    },
    {
      "cell_type": "code",
      "source": [
        "def read_phone_numbers():\n",
        "    \"\"\"\n",
        "    Ask the user for names/numbers to store in a phonebook (dictionary).\n",
        "    Returns the phonebook.\n",
        "    \"\"\"\n",
        "    phonebook = {}  # Create empty phonebook\n",
        "\n",
        "    while True:\n",
        "        name = input(\"Name: \")\n",
        "        if name == \"\":\n",
        "            break\n",
        "        number = input(\"Number: \")\n",
        "        phonebook[name] = number\n",
        "\n",
        "    return phonebook\n",
        "\n",
        "def print_phonebook(phonebook):\n",
        "    \"\"\"\n",
        "    Prints out all the names/numbers in the phonebook.\n",
        "    \"\"\"\n",
        "    print(\"\\nPhonebook entries:\")\n",
        "    for name in phonebook:\n",
        "        print(f\"{name} -> {phonebook[name]}\")\n",
        "\n",
        "def lookup_numbers(phonebook):\n",
        "    \"\"\"\n",
        "    Allow the user to lookup phone numbers in the phonebook\n",
        "    by looking up the number associated with a name.\n",
        "    \"\"\"\n",
        "    print(\"\\nLookup numbers:\")\n",
        "    while True:\n",
        "        name = input(\"Enter name to lookup: \")\n",
        "        if name == \"\":\n",
        "            break\n",
        "        if name not in phonebook:\n",
        "            print(f\"{name} is not in the phonebook\")\n",
        "        else:\n",
        "            print(f\"{name}'s number is: {phonebook[name]}\")\n",
        "\n",
        "def main():\n",
        "    phonebook = read_phone_numbers()\n",
        "    print_phonebook(phonebook)\n",
        "    lookup_numbers(phonebook)\n",
        "\n",
        "# Python boilerplate.\n",
        "if __name__ == '__main__':\n",
        "    main()"
      ],
      "metadata": {
        "colab": {
          "base_uri": "https://localhost:8080/"
        },
        "id": "15NQWK6fRldp",
        "outputId": "eaf91f18-df24-4717-f332-945fc59bc27f"
      },
      "execution_count": null,
      "outputs": [
        {
          "name": "stdout",
          "output_type": "stream",
          "text": [
            "Name: mehak\n",
            "Number: 0314939355\n",
            "Name: ayat\n",
            "Number: 03129392343\n",
            "Name: \n",
            "\n",
            "Phonebook entries:\n",
            "mehak -> 0314939355\n",
            "ayat -> 03129392343\n",
            "\n",
            "Lookup numbers:\n",
            "Enter name to lookup: mehak\n",
            "mehak's number is: 0314939355\n",
            "Enter name to lookup: \n"
          ]
        }
      ]
    },
    {
      "cell_type": "markdown",
      "source": [
        "## 02_pop_up_shop"
      ],
      "metadata": {
        "id": "rSgk37PGSBI7"
      }
    },
    {
      "cell_type": "code",
      "source": [
        "def main():\n",
        "    # Dictionary of fruits and their prices\n",
        "    fruits = {\n",
        "        'apple': 1.5,\n",
        "        'durian': 50,\n",
        "        'jackfruit': 80,\n",
        "        'kiwi': 1,\n",
        "        'rambutan': 1.5,\n",
        "        'mango': 5\n",
        "    }\n",
        "\n",
        "    total_cost = 0\n",
        "\n",
        "    # Ask user how many of each fruit they want\n",
        "    for fruit_name in fruits:\n",
        "        price = fruits[fruit_name]\n",
        "        amount_bought = int(input(f\"How many ({fruit_name}) do you want?: \"))\n",
        "        total_cost += price * amount_bought\n",
        "\n",
        "    # Display total cost\n",
        "    print(f\"Your total is ${total_cost}\")\n",
        "\n",
        "# This provided line is required to call the main function\n",
        "if __name__ == '__main__':\n",
        "    main()"
      ],
      "metadata": {
        "colab": {
          "base_uri": "https://localhost:8080/"
        },
        "id": "6xUvfiTlSCOD",
        "outputId": "43e6d340-985e-4887-9c89-5a112b47737f"
      },
      "execution_count": null,
      "outputs": [
        {
          "output_type": "stream",
          "name": "stdout",
          "text": [
            "How many (apple) do you want?: 2\n",
            "How many (durian) do you want?: 4\n",
            "How many (jackfruit) do you want?: 2\n",
            "How many (kiwi) do you want?: 5\n",
            "How many (rambutan) do you want?: 1\n",
            "How many (mango) do you want?: 6\n",
            "Your total is $399.5\n"
          ]
        }
      ]
    },
    {
      "cell_type": "markdown",
      "source": [
        "## 03_powerful_passwords"
      ],
      "metadata": {
        "id": "C8cDeMS0SXtH"
      }
    },
    {
      "cell_type": "code",
      "source": [
        "from hashlib import sha256\n",
        "\n",
        "def login(email, stored_logins, password_to_check):\n",
        "    \"\"\"\n",
        "    Returns True if the hash of the password we are checking matches the one in stored_logins\n",
        "    for a specific email. Otherwise, returns False.\n",
        "\n",
        "    email: the email we are checking the password for\n",
        "    stored_logins: a dictionary pointing from an email to its hashed password\n",
        "    password_to_check: a password we want to test alongside the email to login with\n",
        "    \"\"\"\n",
        "    # Hash the input password and compare with stored hash\n",
        "    return stored_logins[email] == hash_password(password_to_check)\n",
        "\n",
        "\n",
        "def hash_password(password):\n",
        "    \"\"\"\n",
        "    Takes in a password and returns the SHA256 hashed value for that specific password.\n",
        "\n",
        "    Inputs:\n",
        "        password: the password we want to hash\n",
        "    Outputs:\n",
        "        the hashed form of the input password\n",
        "    \"\"\"\n",
        "    return sha256(password.encode()).hexdigest()\n",
        "\n",
        "\n",
        "def main():\n",
        "    # stored_logins is a dictionary with emails as keys and hashed passwords as values\n",
        "    stored_logins = {\n",
        "        \"example@gmail.com\": \"5e884898da28047151d0e56f8dc6292773603d0d6aabbdd62a11ef721d1542d8\",  # \"password\"\n",
        "        \"code_in_placer@cip.org\": \"973607a4ae7b4cf7d96a100b0fb07e8519cc4f70441d41214a9f811577bb06cc\",  # \"karel\"\n",
        "        \"student@stanford.edu\": \"882c6df720fd99f5eebb1581a1cf975625cea8a160283011c0b9512bb56c95fb\"   # \"123!456?789\"\n",
        "    }\n",
        "\n",
        "    # Test cases\n",
        "    print(login(\"example@gmail.com\", stored_logins, \"word\"))          # False\n",
        "    print(login(\"example@gmail.com\", stored_logins, \"password\"))      # True\n",
        "    print(login(\"code_in_placer@cip.org\", stored_logins, \"Karel\"))    # False (case-sensitive)\n",
        "    print(login(\"code_in_placer@cip.org\", stored_logins, \"karel\"))    # True\n",
        "    print(login(\"student@stanford.edu\", stored_logins, \"password\"))   # False\n",
        "    print(login(\"student@stanford.edu\", stored_logins, \"123!456?789\"))# True\n",
        "\n",
        "\n",
        "# This provided line is required to call the main function\n",
        "if __name__ == '__main__':\n",
        "    main()"
      ],
      "metadata": {
        "colab": {
          "base_uri": "https://localhost:8080/"
        },
        "id": "C92wW2WSSYqj",
        "outputId": "397ddebc-bc96-444b-9f40-98dba6e4ba5f"
      },
      "execution_count": null,
      "outputs": [
        {
          "output_type": "stream",
          "name": "stdout",
          "text": [
            "False\n",
            "True\n",
            "False\n",
            "True\n",
            "False\n",
            "True\n"
          ]
        }
      ]
    },
    {
      "cell_type": "markdown",
      "source": [
        "# 05_loops_control"
      ],
      "metadata": {
        "id": "FMDc_YfUSctb"
      }
    },
    {
      "cell_type": "markdown",
      "source": [
        "## 00_guess_my_number"
      ],
      "metadata": {
        "id": "Mm31G-ZHSh_T"
      }
    },
    {
      "cell_type": "code",
      "source": [
        "import random\n",
        "\n",
        "def main():\n",
        "    # Generate a random number between 1 and 99\n",
        "    secret_number = random.randint(1, 99)\n",
        "\n",
        "    print(\"I am thinking of a number between 1 and 99...\")\n",
        "\n",
        "    # Get the first guess from the user\n",
        "    guess = int(input(\"Enter a guess: \"))\n",
        "\n",
        "    # Keep asking until the user guesses correctly\n",
        "    while guess != secret_number:\n",
        "        if guess < secret_number:\n",
        "            print(\"Your guess is too low\")\n",
        "        else:\n",
        "            print(\"Your guess is too high\")\n",
        "\n",
        "        print()  # Just for spacing\n",
        "        guess = int(input(\"Enter a new guess: \"))\n",
        "\n",
        "    print(\"Congrats! The number was: \" + str(secret_number))\n",
        "\n",
        "# Required to run main when the script is executed\n",
        "if __name__ == '__main__':\n",
        "    main()"
      ],
      "metadata": {
        "colab": {
          "base_uri": "https://localhost:8080/"
        },
        "id": "oPEanEWESlMC",
        "outputId": "7770075b-88e1-4227-eda7-a95b62533fce"
      },
      "execution_count": null,
      "outputs": [
        {
          "output_type": "stream",
          "name": "stdout",
          "text": [
            "I am thinking of a number between 1 and 99...\n",
            "Enter a guess: 6\n",
            "Your guess is too low\n",
            "\n",
            "Enter a new guess: 98\n",
            "Your guess is too high\n",
            "\n",
            "Enter a new guess: 65\n",
            "Your guess is too low\n",
            "\n",
            "Enter a new guess: 55\n",
            "Your guess is too low\n",
            "\n",
            "Enter a new guess: 50\n",
            "Your guess is too low\n",
            "\n",
            "Enter a new guess: 34\n",
            "Your guess is too low\n",
            "\n",
            "Enter a new guess: 77\n",
            "Your guess is too low\n",
            "\n",
            "Enter a new guess: 80\n",
            "Your guess is too high\n",
            "\n",
            "Enter a new guess: 88\n",
            "Your guess is too high\n",
            "\n",
            "Enter a new guess: 87\n",
            "Your guess is too high\n",
            "\n",
            "Enter a new guess: 79\n",
            "Your guess is too high\n",
            "\n",
            "Enter a new guess: 69\n",
            "Your guess is too low\n",
            "\n",
            "Enter a new guess: 70\n",
            "Your guess is too low\n",
            "\n",
            "Enter a new guess: 71\n",
            "Your guess is too low\n",
            "\n",
            "Enter a new guess: 72\n",
            "Your guess is too low\n",
            "\n",
            "Enter a new guess: 73\n",
            "Your guess is too low\n",
            "\n",
            "Enter a new guess: 75\n",
            "Your guess is too low\n",
            "\n",
            "Enter a new guess: 76\n",
            "Your guess is too low\n",
            "\n",
            "Enter a new guess: 77\n",
            "Your guess is too low\n",
            "\n",
            "Enter a new guess: 78\n",
            "Congrats! The number was: 78\n"
          ]
        }
      ]
    },
    {
      "cell_type": "markdown",
      "source": [
        "## 01_fibonacci"
      ],
      "metadata": {
        "id": "4Wksj04MTKEj"
      }
    },
    {
      "cell_type": "code",
      "source": [
        "MAX_TERM_VALUE: int = 10000\n",
        "\n",
        "def main():\n",
        "    curr_term = 0  # The 0th Fibonacci number\n",
        "    next_term = 1  # The 1st Fibonacci number\n",
        "\n",
        "    # Continue printing terms while current term is less than or equal to MAX_TERM_VALUE\n",
        "    while curr_term <= MAX_TERM_VALUE:\n",
        "        print(curr_term)\n",
        "        # Calculate the next term in the sequence\n",
        "        term_after_next = curr_term + next_term\n",
        "        curr_term = next_term\n",
        "        next_term = term_after_next\n",
        "\n",
        "# Required to run main when the script is executed\n",
        "if __name__ == '__main__':\n",
        "    main()"
      ],
      "metadata": {
        "colab": {
          "base_uri": "https://localhost:8080/"
        },
        "id": "CuBo6GPVTKwy",
        "outputId": "2c100809-cadf-4085-c8f9-12b63def40ee"
      },
      "execution_count": null,
      "outputs": [
        {
          "output_type": "stream",
          "name": "stdout",
          "text": [
            "0\n",
            "1\n",
            "1\n",
            "2\n",
            "3\n",
            "5\n",
            "8\n",
            "13\n",
            "21\n",
            "34\n",
            "55\n",
            "89\n",
            "144\n",
            "233\n",
            "377\n",
            "610\n",
            "987\n",
            "1597\n",
            "2584\n",
            "4181\n",
            "6765\n"
          ]
        }
      ]
    },
    {
      "cell_type": "markdown",
      "source": [
        "## 02_print_events"
      ],
      "metadata": {
        "id": "oRCwvVZGTcLp"
      }
    },
    {
      "cell_type": "code",
      "source": [
        "def main():\n",
        "    # Loop through the first 20 numbers (from 0 to 19)\n",
        "    for i in range(20):\n",
        "        print(i * 2)  # Multiply each number by 2 to get the even number\n",
        "\n",
        "# Required to run main when the script is executed\n",
        "if __name__ == \"__main__\":\n",
        "    main()"
      ],
      "metadata": {
        "colab": {
          "base_uri": "https://localhost:8080/"
        },
        "id": "ILvp9wkkTdDE",
        "outputId": "1f072ebb-e8cd-4b17-cb11-7b369156c7d5"
      },
      "execution_count": null,
      "outputs": [
        {
          "output_type": "stream",
          "name": "stdout",
          "text": [
            "0\n",
            "2\n",
            "4\n",
            "6\n",
            "8\n",
            "10\n",
            "12\n",
            "14\n",
            "16\n",
            "18\n",
            "20\n",
            "22\n",
            "24\n",
            "26\n",
            "28\n",
            "30\n",
            "32\n",
            "34\n",
            "36\n",
            "38\n"
          ]
        }
      ]
    },
    {
      "cell_type": "markdown",
      "source": [
        "## 03_wholesome_machine"
      ],
      "metadata": {
        "id": "xEEoK3jgTtxq"
      }
    },
    {
      "cell_type": "code",
      "source": [
        "AFFIRMATION : str = \"I am capable of doing anything I put my mind to.\"\n",
        "\n",
        "def main():\n",
        "    print(\"Please type the following affirmation: \" + AFFIRMATION)\n",
        "\n",
        "    user_feedback = input()  # Get user's input\n",
        "    while user_feedback != AFFIRMATION:  # Check if it matches exactly\n",
        "        print(\"That was not the affirmation.\")\n",
        "        print(\"Please type the following affirmation: \" + AFFIRMATION)\n",
        "        user_feedback = input()\n",
        "\n",
        "    print(\"That's right! :)\")\n",
        "\n",
        "# Required to run the main function\n",
        "if __name__ == '__main__':\n",
        "    main()"
      ],
      "metadata": {
        "colab": {
          "base_uri": "https://localhost:8080/"
        },
        "id": "zHj02aMrTuu5",
        "outputId": "e0fc9c26-304d-48b2-b248-369f956b5463"
      },
      "execution_count": null,
      "outputs": [
        {
          "output_type": "stream",
          "name": "stdout",
          "text": [
            "Please type the following affirmation: I am capable of doing anything I put my mind to.\n",
            "I am capable of doing anything I put my mind to.\n",
            "That's right! :)\n"
          ]
        }
      ]
    },
    {
      "cell_type": "markdown",
      "source": [
        "## 04_liftoff"
      ],
      "metadata": {
        "id": "A4kgq9-FUQiz"
      }
    },
    {
      "cell_type": "code",
      "source": [
        "def main():\n",
        "    # Count down from 10 to 1\n",
        "    for i in range(10, 0, -1):  # Start at 10, stop at 1 (inclusive), step -1\n",
        "        print(i)\n",
        "    print(\"Liftoff!\")  # Final message after countdown\n",
        "\n",
        "# Required to run the main function\n",
        "if __name__ == '__main__':\n",
        "    main()"
      ],
      "metadata": {
        "colab": {
          "base_uri": "https://localhost:8080/"
        },
        "id": "Rm2oJA4bUUE7",
        "outputId": "d8ab597b-453c-40fd-8268-776784089af7"
      },
      "execution_count": null,
      "outputs": [
        {
          "output_type": "stream",
          "name": "stdout",
          "text": [
            "10\n",
            "9\n",
            "8\n",
            "7\n",
            "6\n",
            "5\n",
            "4\n",
            "3\n",
            "2\n",
            "1\n",
            "Liftoff!\n"
          ]
        }
      ]
    },
    {
      "cell_type": "markdown",
      "source": [
        "## 05_double_it"
      ],
      "metadata": {
        "id": "FpCf5zPjUbSj"
      }
    },
    {
      "cell_type": "code",
      "source": [
        "def main():\n",
        "    # Ask user for initial input\n",
        "    curr_value = int(input(\"Enter a number: \"))\n",
        "\n",
        "    # Keep doubling the value until it reaches or exceeds 100\n",
        "    while curr_value < 100:\n",
        "        curr_value = curr_value * 2\n",
        "        print(curr_value)\n",
        "\n",
        "if __name__ == '__main__':\n",
        "    main()"
      ],
      "metadata": {
        "colab": {
          "base_uri": "https://localhost:8080/"
        },
        "id": "_zlex_haUd2j",
        "outputId": "30c28f93-3627-41b7-cf50-ce6690f60bec"
      },
      "execution_count": null,
      "outputs": [
        {
          "output_type": "stream",
          "name": "stdout",
          "text": [
            "Enter a number: 19\n",
            "38\n",
            "76\n",
            "152\n"
          ]
        }
      ]
    }
  ]
}