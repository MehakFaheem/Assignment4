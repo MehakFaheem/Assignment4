{
  "nbformat": 4,
  "nbformat_minor": 0,
  "metadata": {
    "colab": {
      "provenance": []
    },
    "kernelspec": {
      "name": "python3",
      "display_name": "Python 3"
    },
    "language_info": {
      "name": "python"
    }
  },
  "cells": [
    {
      "cell_type": "markdown",
      "source": [
        "# 01_basics"
      ],
      "metadata": {
        "id": "AMisL8JIV5nv"
      }
    },
    {
      "cell_type": "markdown",
      "source": [
        "## 00_joke_bot"
      ],
      "metadata": {
        "id": "VqW4dllhV_Hk"
      }
    },
    {
      "cell_type": "code",
      "execution_count": null,
      "metadata": {
        "colab": {
          "base_uri": "https://localhost:8080/"
        },
        "id": "GwQXxpYhVoqF",
        "outputId": "f3b23326-3213-4429-9f8c-7024cb5ddb1b"
      },
      "outputs": [
        {
          "output_type": "stream",
          "name": "stdout",
          "text": [
            "What do you want? Joke\n",
            "Here is a joke for you! Sophia is heading out to the grocery store. A programmer tells her: get a liter of milk, and if they have eggs, get 12. Sophia returns with 13 liters of milk. The programmer asks why and Sophia replies: 'because they had eggs'\n"
          ]
        }
      ],
      "source": [
        "PROMPT: str = \"What do you want? \"\n",
        "JOKE: str = (\"Here is a joke for you! Sophia is heading out to the grocery store. \"\n",
        "             \"A programmer tells her: get a liter of milk, and if they have eggs, get 12. \"\n",
        "             \"Sophia returns with 13 liters of milk. The programmer asks why and Sophia replies: 'because they had eggs'\")\n",
        "SORRY: str = \"Sorry I only tell jokes\"\n",
        "\n",
        "def main():\n",
        "    user_input = input(PROMPT)\n",
        "\n",
        "    if user_input == \"Joke\":\n",
        "        print(JOKE)\n",
        "    else:\n",
        "        print(SORRY)\n",
        "\n",
        "if __name__ == '__main__':\n",
        "    main()"
      ]
    },
    {
      "cell_type": "markdown",
      "source": [
        "## 01_double_it"
      ],
      "metadata": {
        "id": "UTn0tzU2WmtN"
      }
    },
    {
      "cell_type": "code",
      "source": [
        "def main():\n",
        "    curr_value = int(input(\"Enter a number: \"))\n",
        "\n",
        "    while curr_value < 100:\n",
        "        curr_value = curr_value * 2\n",
        "        print(curr_value)\n",
        "\n",
        "if __name__ == '__main__':\n",
        "    main()"
      ],
      "metadata": {
        "colab": {
          "base_uri": "https://localhost:8080/"
        },
        "id": "cmSTNI8AWqGs",
        "outputId": "40e3ba5c-a371-4180-807f-0bfb9d6cacaf"
      },
      "execution_count": null,
      "outputs": [
        {
          "output_type": "stream",
          "name": "stdout",
          "text": [
            "Enter a number: 3\n",
            "6\n",
            "12\n",
            "24\n",
            "48\n",
            "96\n",
            "192\n"
          ]
        }
      ]
    },
    {
      "cell_type": "markdown",
      "source": [
        "## 02_liftoff"
      ],
      "metadata": {
        "id": "1KcDk1rLW6cc"
      }
    },
    {
      "cell_type": "code",
      "source": [
        "def main():\n",
        "    for i in range(10):\n",
        "        print(10 - i)\n",
        "    print(\"Liftoff!\")\n",
        "\n",
        "if __name__ == '__main__':\n",
        "    main()"
      ],
      "metadata": {
        "colab": {
          "base_uri": "https://localhost:8080/"
        },
        "id": "6PVyJ-E4W7KL",
        "outputId": "a989e494-aab5-4925-a1ed-decff9fd59ae"
      },
      "execution_count": null,
      "outputs": [
        {
          "output_type": "stream",
          "name": "stdout",
          "text": [
            "10\n",
            "9\n",
            "8\n",
            "7\n",
            "6\n",
            "5\n",
            "4\n",
            "3\n",
            "2\n",
            "1\n",
            "Liftoff!\n"
          ]
        }
      ]
    },
    {
      "cell_type": "markdown",
      "source": [
        "## 03_guess_my_number"
      ],
      "metadata": {
        "id": "h9EpHfe0W_uF"
      }
    },
    {
      "cell_type": "code",
      "source": [
        "import random\n",
        "\n",
        "def main():\n",
        "    # Generate the secret number at random between 1 and 99\n",
        "    secret_number: int = random.randint(1, 99)\n",
        "\n",
        "    print(\"I am thinking of a number between 1 and 99...\")\n",
        "\n",
        "    # Get user's first guess\n",
        "    guess = int(input(\"Enter a guess: \"))\n",
        "\n",
        "    # Loop until the guess matches the secret number\n",
        "    while guess != secret_number:\n",
        "        if guess < secret_number:\n",
        "            print(\"Your guess is too low\")\n",
        "        else:\n",
        "            print(\"Your guess is too high\")\n",
        "\n",
        "        print()  # Print a blank line for clarity\n",
        "        guess = int(input(\"Enter a new guess: \"))\n",
        "\n",
        "    print(f\"Congrats! The number was: {secret_number}\")\n",
        "\n",
        "if __name__ == '__main__':\n",
        "    main()"
      ],
      "metadata": {
        "colab": {
          "base_uri": "https://localhost:8080/"
        },
        "id": "uiJkJvjMXA-F",
        "outputId": "95eb8a3d-e9a4-4ed3-9450-1cea32648616"
      },
      "execution_count": null,
      "outputs": [
        {
          "output_type": "stream",
          "name": "stdout",
          "text": [
            "I am thinking of a number between 1 and 99...\n",
            "Enter a guess: 77\n",
            "Your guess is too high\n",
            "\n",
            "Enter a new guess: 56\n",
            "Your guess is too low\n",
            "\n",
            "Enter a new guess: 66\n",
            "Your guess is too low\n",
            "\n",
            "Enter a new guess: 70\n",
            "Your guess is too low\n",
            "\n",
            "Enter a new guess: 73\n",
            "Your guess is too low\n",
            "\n",
            "Enter a new guess: 76\n",
            "Congrats! The number was: 76\n"
          ]
        }
      ]
    },
    {
      "cell_type": "markdown",
      "source": [
        "## 04_random_numbers"
      ],
      "metadata": {
        "id": "GxX0slohXRzT"
      }
    },
    {
      "cell_type": "code",
      "source": [
        "import random\n",
        "\n",
        "N_NUMBERS: int = 10\n",
        "MIN_VALUE: int = 1\n",
        "MAX_VALUE: int = 100\n",
        "\n",
        "def main():\n",
        "    for _ in range(N_NUMBERS):\n",
        "        value = random.randint(MIN_VALUE, MAX_VALUE)\n",
        "        print(value)\n",
        "\n",
        "if __name__ == '__main__':\n",
        "    main()"
      ],
      "metadata": {
        "colab": {
          "base_uri": "https://localhost:8080/"
        },
        "id": "wfgxv7yyXSuk",
        "outputId": "50eb4ddc-b89a-425f-918f-d5b91f16d096"
      },
      "execution_count": null,
      "outputs": [
        {
          "output_type": "stream",
          "name": "stdout",
          "text": [
            "43\n",
            "11\n",
            "48\n",
            "78\n",
            "42\n",
            "16\n",
            "81\n",
            "67\n",
            "34\n",
            "41\n"
          ]
        }
      ]
    },
    {
      "cell_type": "markdown",
      "source": [
        "# 02_intermediate"
      ],
      "metadata": {
        "id": "ynxqbOibXYZ9"
      }
    },
    {
      "cell_type": "markdown",
      "source": [],
      "metadata": {
        "id": "Btp1AKj8Xda7"
      }
    },
    {
      "cell_type": "markdown",
      "source": [
        "## Control Flow for Console"
      ],
      "metadata": {
        "id": "s7nGi65C6Hdo"
      }
    },
    {
      "cell_type": "code",
      "source": [
        "import random\n",
        "\n",
        "NUM_ROUNDS = 5\n",
        "\n",
        "def main():\n",
        "    print(\"Welcome to the High-Low Game!\")\n",
        "    print('--------------------------------')\n",
        "\n",
        "    # Milestone 5: keep track of your score\n",
        "    your_score = 0\n",
        "\n",
        "    # Milestone 4: Play multiple rounds\n",
        "    for i in range(NUM_ROUNDS):\n",
        "        print(\"Round\", i + 1)\n",
        "        # Milestone 1: Generate the random numbers and print them out\n",
        "        computer_num: int = random.randint(1, 100)\n",
        "        your_num: int = random.randint(1, 100)\n",
        "        print(\"Your number is\", your_num)\n",
        "\n",
        "        # Milestone 2: Get user input for their choice\n",
        "        choice: str = input(\"Do you think your number is higher or lower than the computer's?: \")\n",
        "\n",
        "        # Milestone 3: Map out all the ways to win the round\n",
        "        higher_and_correct: bool = choice == \"higher\" and your_num > computer_num\n",
        "        lower_and_correct: bool = choice == \"lower\" and your_num < computer_num\n",
        "\n",
        "        if higher_and_correct or lower_and_correct:\n",
        "            print(\"You were right! The computer's number was\", computer_num)\n",
        "            # Milestone 5: keep track of your score\n",
        "            your_score += 1\n",
        "        else:\n",
        "            print(\"Aww, that's incorrect. The computer's number was\", computer_num)\n",
        "\n",
        "        # Milestone 5: keep track of your score\n",
        "        print(\"Your score is now\", your_score)\n",
        "        print()\n",
        "\n",
        "    print(\"Thanks for playing!\")\n",
        "\n",
        "if __name__ == \"__main__\":\n",
        "    main()"
      ],
      "metadata": {
        "colab": {
          "base_uri": "https://localhost:8080/"
        },
        "id": "KXbtSAHJ6IH3",
        "outputId": "0877759b-084d-4ee6-853b-bffd0589db10"
      },
      "execution_count": null,
      "outputs": [
        {
          "output_type": "stream",
          "name": "stdout",
          "text": [
            "Welcome to the High-Low Game!\n",
            "--------------------------------\n",
            "Round 1\n",
            "Your number is 88\n",
            "Do you think your number is higher or lower than the computer's?: low\n",
            "Aww, that's incorrect. The computer's number was 12\n",
            "Your score is now 0\n",
            "\n",
            "Round 2\n",
            "Your number is 23\n",
            "Do you think your number is higher or lower than the computer's?: high\n",
            "Aww, that's incorrect. The computer's number was 93\n",
            "Your score is now 0\n",
            "\n",
            "Round 3\n",
            "Your number is 43\n",
            "Do you think your number is higher or lower than the computer's?: high\n",
            "Aww, that's incorrect. The computer's number was 70\n",
            "Your score is now 0\n",
            "\n",
            "Round 4\n",
            "Your number is 35\n",
            "Do you think your number is higher or lower than the computer's?: low\n",
            "Aww, that's incorrect. The computer's number was 92\n",
            "Your score is now 0\n",
            "\n",
            "Round 5\n",
            "Your number is 23\n",
            "Do you think your number is higher or lower than the computer's?: low\n",
            "Aww, that's incorrect. The computer's number was 57\n",
            "Your score is now 0\n",
            "\n",
            "Thanks for playing!\n"
          ]
        }
      ]
    },
    {
      "cell_type": "markdown",
      "source": [
        "## Intro to Python"
      ],
      "metadata": {
        "id": "NhQadnBZ6htd"
      }
    },
    {
      "cell_type": "markdown",
      "source": [
        "## Milestone 1"
      ],
      "metadata": {
        "id": "EkCpFhiF7N-y"
      }
    },
    {
      "cell_type": "code",
      "source": [
        "\"\"\"\n",
        "Prompts the user for a weight on Earth\n",
        "and prints the equivalent weight on Mars.\n",
        "\"\"\"\n",
        "\n",
        "# We use constants!\n",
        "MARS_MULTIPLE = 0.378\n",
        "\n",
        "def main():\n",
        "    earth_weight_str = input('Enter a weight on Earth: ')\n",
        "\n",
        "    # Get the numeric value since input() returns a value in string form\n",
        "    earth_weight = float(earth_weight_str)\n",
        "\n",
        "    # Having a variable for each piece of information is a good habit\n",
        "    mars_weight = earth_weight * MARS_MULTIPLE\n",
        "    rounded_mars_weight = round(mars_weight, 2)\n",
        "\n",
        "    # Note the string concatenation!\n",
        "    print('The equivalent weight on Mars: ' + str(rounded_mars_weight))\n",
        "\n",
        "if __name__ == '__main__':\n",
        "    main()"
      ],
      "metadata": {
        "colab": {
          "base_uri": "https://localhost:8080/"
        },
        "id": "AU4IkwbQ6iWz",
        "outputId": "206c7cb0-766c-41a9-a40b-af6df7a7aee3"
      },
      "execution_count": null,
      "outputs": [
        {
          "output_type": "stream",
          "name": "stdout",
          "text": [
            "Enter a weight on Earth: 39\n",
            "The equivalent weight on Mars: 14.74\n"
          ]
        }
      ]
    },
    {
      "cell_type": "markdown",
      "source": [
        "## Milestone 2"
      ],
      "metadata": {
        "id": "I8BVGWGW7nfD"
      }
    },
    {
      "cell_type": "code",
      "source": [
        "\"\"\"\n",
        "Prompts the user for a weight on Earth\n",
        "and a planet (in separate inputs). Then\n",
        "prints the equivalent weight on that planet.\n",
        "\n",
        "Note that the user should type in a planet with\n",
        "the first letter as uppercase, and you do not need\n",
        "to handle the case where a user types in something\n",
        "other than one of the planets (that is not Earth).\n",
        "\"\"\"\n",
        "\n",
        "MERCURY_GRAVITY = 0.376\n",
        "VENUS_GRAVITY = 0.889\n",
        "MARS_GRAVITY = 0.378\n",
        "JUPITER_GRAVITY = 2.36\n",
        "SATURN_GRAVITY = 1.081\n",
        "URANUS_GRAVITY = 0.815\n",
        "NEPTUNE_GRAVITY = 1.14\n",
        "EARTH_GRAVITY = 1.0\n",
        "\n",
        "def main():\n",
        "    # Prompt the user for their weight on Earth\n",
        "    earth_weight = float(input(\"Enter a weight on Earth: \"))\n",
        "\n",
        "    # Prompt the user for the name of a planet\n",
        "    planet = input(\"Enter a planet: \")\n",
        "\n",
        "    # Determine the gravitational constant for the selected planet\n",
        "    if planet == \"Mercury\":\n",
        "        gravity_constant = MERCURY_GRAVITY\n",
        "    elif planet == \"Venus\":\n",
        "        gravity_constant = VENUS_GRAVITY\n",
        "    elif planet == \"Mars\":\n",
        "        gravity_constant = MARS_GRAVITY\n",
        "    elif planet == \"Jupiter\":\n",
        "        gravity_constant = JUPITER_GRAVITY\n",
        "    elif planet == \"Saturn\":\n",
        "        gravity_constant = SATURN_GRAVITY\n",
        "    elif planet == \"Uranus\":\n",
        "        gravity_constant = URANUS_GRAVITY\n",
        "    else:\n",
        "        # can assume user types in one of these planets, so this can be an else instead of elif\n",
        "        gravity_constant = NEPTUNE_GRAVITY\n",
        "\n",
        "    # Calculate the equivalent weight on the selected planet\n",
        "    planetary_weight = earth_weight * gravity_constant\n",
        "    rounded_planetary_weight = round(planetary_weight, 2)\n",
        "\n",
        "    # Print the result\n",
        "    print(\"The equivalent weight on \" + planet + \":  \" + str(rounded_planetary_weight))\n",
        "\n",
        "if __name__ == \"__main__\":\n",
        "    main()"
      ],
      "metadata": {
        "colab": {
          "base_uri": "https://localhost:8080/"
        },
        "id": "UvIsMnzC7pHz",
        "outputId": "c6619868-95a6-4acb-f66d-b78e10d72eed"
      },
      "execution_count": null,
      "outputs": [
        {
          "output_type": "stream",
          "name": "stdout",
          "text": [
            "Enter a weight on Earth: 39\n",
            "Enter a planet: jupiter\n",
            "The equivalent weight on jupiter:  44.46\n"
          ]
        }
      ]
    },
    {
      "cell_type": "markdown",
      "source": [
        "## Lists and Dicts"
      ],
      "metadata": {
        "id": "0jcaTnU_7yYT"
      }
    },
    {
      "cell_type": "markdown",
      "source": [
        "## Problem #1: List Practice"
      ],
      "metadata": {
        "id": "jeyBQXim8RhK"
      }
    },
    {
      "cell_type": "code",
      "source": [
        "def main():\n",
        "    # Create a list called `fruit_list` that contains the following fruits:\n",
        "    # 'apple', 'banana', 'orange', 'grape', 'pineapple'.\n",
        "    fruit_list = ['apple', 'banana', 'orange', 'grape', 'pineapple']\n",
        "\n",
        "    # Print the length of the list.\n",
        "    print(len(fruit_list))\n",
        "\n",
        "    # Add 'mango' at the end of the list.\n",
        "    fruit_list.append('mango')\n",
        "\n",
        "    # Print the updated list.\n",
        "    print(fruit_list)\n",
        "\n",
        "main()"
      ],
      "metadata": {
        "colab": {
          "base_uri": "https://localhost:8080/"
        },
        "id": "eY-QW-7R8S0a",
        "outputId": "9e089432-46d0-427e-8dd8-bfb08216e02f"
      },
      "execution_count": null,
      "outputs": [
        {
          "output_type": "stream",
          "name": "stdout",
          "text": [
            "5\n",
            "['apple', 'banana', 'orange', 'grape', 'pineapple', 'mango']\n"
          ]
        }
      ]
    },
    {
      "cell_type": "markdown",
      "source": [
        "## Problem #2: Index Game\n"
      ],
      "metadata": {
        "id": "J-_248Dl8eFL"
      }
    },
    {
      "cell_type": "code",
      "source": [
        "def access_element(lst, index):\n",
        "    try:\n",
        "        return lst[index]\n",
        "    except IndexError:\n",
        "        return \"Index out of range.\"\n",
        "\n",
        "def modify_element(lst, index, new_value):\n",
        "    try:\n",
        "        lst[index] = new_value\n",
        "        return lst\n",
        "    except IndexError:\n",
        "        return \"Index out of range.\"\n",
        "\n",
        "def slice_list(lst, start, end):\n",
        "    try:\n",
        "        return lst[start:end]\n",
        "    except IndexError:\n",
        "        return \"Invalid indices.\"\n",
        "\n",
        "def index_game():\n",
        "    lst = ['apple', 'banana', 'orange', 'grape', 'pineapple']\n",
        "    print(\"Current list:\", lst)\n",
        "    print(\"Choose an operation: access, modify, slice\")\n",
        "    operation = input(\"Enter operation: \")\n",
        "\n",
        "    if operation == \"access\":\n",
        "        index = int(input(\"Enter index to access: \"))\n",
        "        print(access_element(lst, index))\n",
        "    elif operation == \"modify\":\n",
        "        index = int(input(\"Enter index to modify: \"))\n",
        "        new_value = input(\"Enter new value: \")\n",
        "        print(modify_element(lst, index, new_value))\n",
        "    elif operation == \"slice\":\n",
        "        start = int(input(\"Enter start index: \"))\n",
        "        end = int(input(\"Enter end index: \"))\n",
        "        print(slice_list(lst, start, end))\n",
        "    else:\n",
        "        print(\"Invalid operation.\")\n",
        "\n",
        "index_game()"
      ],
      "metadata": {
        "colab": {
          "base_uri": "https://localhost:8080/"
        },
        "id": "12_jEcky7zgA",
        "outputId": "c5778136-7b05-4b78-b769-51e7e970e3a5"
      },
      "execution_count": null,
      "outputs": [
        {
          "output_type": "stream",
          "name": "stdout",
          "text": [
            "Current list: ['apple', 'banana', 'orange', 'grape', 'pineapple']\n",
            "Choose an operation: access, modify, slice\n",
            "Enter operation: modify\n",
            "Enter index to modify: 4\n",
            "Enter new value: mango\n",
            "['apple', 'banana', 'orange', 'grape', 'mango']\n"
          ]
        }
      ]
    }
  ]
}